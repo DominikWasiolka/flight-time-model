{
 "cells": [
  {
   "cell_type": "code",
   "execution_count": 1,
   "id": "7fa2d1bf",
   "metadata": {},
   "outputs": [],
   "source": [
    "import requests,datetime, time\n",
    "from tqdm import tqdm\n",
    "import pandas as pd\n",
    "import logging\n",
    "from secrets import WEATHER_API_KEY\n",
    "logging.basicConfig(filename='weather.log', level=logging.INFO)"
   ]
  },
  {
   "cell_type": "code",
   "execution_count": 2,
   "id": "2e4b88df",
   "metadata": {},
   "outputs": [],
   "source": [
    "def process_response(airport_code,response):\n",
    "    lines = response.split(\"\\n\")\n",
    "    lines.pop(0)\n",
    "    non_empty_lines = [line for line in lines if line.strip() != \"\"]\n",
    "    map_obj = map(lambda s: airport_code+\",\"+s, non_empty_lines)\n",
    "    lines = list(map_obj)\n",
    "    return \"\\n\".join(lines)\n",
    "\n",
    "weather_endpoint='https://weather.visualcrossing.com/VisualCrossingWebServices/rest/services/weatherdata/history?&aggregateHours=1&startDateTime={start_datetime}&endDateTime={end_datetime}&unitGroup=uk&contentType=csv&location={lat:.2f},{long:.2f}&US&key={apikey}'\n",
    "apikey = WEATHER_API_KEY\n",
    "def get_weather(airport_code, lattitude, longitude):\n",
    "    response = requests.get(weather_endpoint.format(start_datetime=\"2015-01-01\",end_datetime=\"2016-01-01\",lat=lattitude, long=longitude, apikey=apikey)).text\n",
    "    with open('./results/backups/{code}_weather_backup.csv'.format(code=airport_code),'w') as fd:\n",
    "        fd.write(response)\n",
    "    \n",
    "    try:\n",
    "        processed_weather = process_response(airport_code,response) #response.split(\"\\n\",1)[1]\n",
    "        with open('./results/weather_airport.csv','a') as fd:\n",
    "            fd.write(processed_weather)\n",
    "        logging.info(airport_code+\" - corect save\")\n",
    "    except Exception as exc:\n",
    "        logging.error(exc)\n",
    "        logging.info(\"Wrong data for airport: \"+airport_code+\" response: \"+response)        "
   ]
  },
  {
   "cell_type": "code",
   "execution_count": 3,
   "id": "eb2cf805",
   "metadata": {},
   "outputs": [
    {
     "data": {
      "text/html": [
       "<div>\n",
       "<style scoped>\n",
       "    .dataframe tbody tr th:only-of-type {\n",
       "        vertical-align: middle;\n",
       "    }\n",
       "\n",
       "    .dataframe tbody tr th {\n",
       "        vertical-align: top;\n",
       "    }\n",
       "\n",
       "    .dataframe thead th {\n",
       "        text-align: right;\n",
       "    }\n",
       "</style>\n",
       "<table border=\"1\" class=\"dataframe\">\n",
       "  <thead>\n",
       "    <tr style=\"text-align: right;\">\n",
       "      <th></th>\n",
       "      <th>IATA_CODE</th>\n",
       "      <th>AIRPORT</th>\n",
       "      <th>CITY</th>\n",
       "      <th>STATE</th>\n",
       "      <th>COUNTRY</th>\n",
       "      <th>LATITUDE</th>\n",
       "      <th>LONGITUDE</th>\n",
       "    </tr>\n",
       "  </thead>\n",
       "  <tbody>\n",
       "    <tr>\n",
       "      <th>96</th>\n",
       "      <td>ECP</td>\n",
       "      <td>Northwest Florida Beaches International Airport</td>\n",
       "      <td>Panama City</td>\n",
       "      <td>FL</td>\n",
       "      <td>USA</td>\n",
       "      <td>30.35521</td>\n",
       "      <td>-85.79956</td>\n",
       "    </tr>\n",
       "    <tr>\n",
       "      <th>234</th>\n",
       "      <td>PBG</td>\n",
       "      <td>Plattsburgh International Airport</td>\n",
       "      <td>Plattsburgh</td>\n",
       "      <td>NY</td>\n",
       "      <td>USA</td>\n",
       "      <td>44.65349</td>\n",
       "      <td>-73.46792</td>\n",
       "    </tr>\n",
       "    <tr>\n",
       "      <th>313</th>\n",
       "      <td>UST</td>\n",
       "      <td>Northeast Florida Regional Airport (St. August...</td>\n",
       "      <td>St. Augustine</td>\n",
       "      <td>FL</td>\n",
       "      <td>USA</td>\n",
       "      <td>29.95518</td>\n",
       "      <td>-81.34300</td>\n",
       "    </tr>\n",
       "  </tbody>\n",
       "</table>\n",
       "</div>"
      ],
      "text/plain": [
       "    IATA_CODE                                            AIRPORT  \\\n",
       "96        ECP    Northwest Florida Beaches International Airport   \n",
       "234       PBG                  Plattsburgh International Airport   \n",
       "313       UST  Northeast Florida Regional Airport (St. August...   \n",
       "\n",
       "              CITY STATE COUNTRY  LATITUDE  LONGITUDE  \n",
       "96     Panama City    FL     USA  30.35521  -85.79956  \n",
       "234    Plattsburgh    NY     USA  44.65349  -73.46792  \n",
       "313  St. Augustine    FL     USA  29.95518  -81.34300  "
      ]
     },
     "execution_count": 3,
     "metadata": {},
     "output_type": "execute_result"
    }
   ],
   "source": [
    "airports = pd.read_csv('data/airports.csv')\n",
    "airports.loc[airports['IATA_CODE'] == 'ECP', ['LATITUDE']] = 30.35521\n",
    "airports.loc[airports['IATA_CODE'] == 'ECP', ['LONGITUDE']] = -85.79956\n",
    "airports.loc[airports['IATA_CODE'] == 'PBG', ['LATITUDE']] = 44.65349\n",
    "airports.loc[airports['IATA_CODE'] == 'PBG', ['LONGITUDE']] = -73.46792\n",
    "airports.loc[airports['IATA_CODE'] == 'UST', ['LATITUDE']] = 29.95518\n",
    "airports.loc[airports['IATA_CODE'] == 'UST', ['LONGITUDE']] = -81.34300\n",
    "airports.loc[[96,234,313],:]"
   ]
  },
  {
   "cell_type": "code",
   "execution_count": 4,
   "id": "f64ea711",
   "metadata": {},
   "outputs": [],
   "source": [
    "with open('./results/weather_airport.csv','w') as fd:\n",
    "    fd.write(\"airport_code,Address,Date time,Minimum Temperature,Maximum Temperature,Temperature,Dew Point,Relative Humidity,Heat Index,Wind Speed,Wind Gust,Wind Direction,Wind Chill,Precipitation,Precipitation Cover,Snow Depth,Visibility,Cloud Cover,Sea Level Pressure,Weather Type,Latitude,Longitude,Resolved Address,Name,Info,Conditions\\n\")"
   ]
  },
  {
   "cell_type": "code",
   "execution_count": 5,
   "id": "81b5db01",
   "metadata": {},
   "outputs": [
    {
     "name": "stderr",
     "output_type": "stream",
     "text": [
      "100%|██████████| 322/322 [11:23<00:00,  2.12s/it]\n"
     ]
    }
   ],
   "source": [
    "for _, location in tqdm(airports.iterrows(), total=len(airports)):\n",
    "    get_weather(location['IATA_CODE'],location['LATITUDE'],location['LONGITUDE'])"
   ]
  },
  {
   "cell_type": "code",
   "execution_count": null,
   "id": "906b26e8",
   "metadata": {},
   "outputs": [],
   "source": []
  }
 ],
 "metadata": {
  "kernelspec": {
   "display_name": "Python 3",
   "language": "python",
   "name": "python3"
  },
  "language_info": {
   "codemirror_mode": {
    "name": "ipython",
    "version": 3
   },
   "file_extension": ".py",
   "mimetype": "text/x-python",
   "name": "python",
   "nbconvert_exporter": "python",
   "pygments_lexer": "ipython3",
   "version": "3.7.6"
  }
 },
 "nbformat": 4,
 "nbformat_minor": 5
}
